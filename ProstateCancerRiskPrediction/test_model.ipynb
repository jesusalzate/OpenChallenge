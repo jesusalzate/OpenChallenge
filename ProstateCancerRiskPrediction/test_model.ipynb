{
 "cells": [
  {
   "cell_type": "code",
   "execution_count": 1,
   "metadata": {},
   "outputs": [
    {
     "ename": "ModuleNotFoundError",
     "evalue": "No module named 'monai'",
     "output_type": "error",
     "traceback": [
      "\u001b[0;31m---------------------------------------------------------------------------\u001b[0m",
      "\u001b[0;31mModuleNotFoundError\u001b[0m                       Traceback (most recent call last)",
      "\u001b[0;32m/tmp/ipykernel_20612/1495077324.py\u001b[0m in \u001b[0;36m<module>\u001b[0;34m\u001b[0m\n\u001b[0;32m----> 1\u001b[0;31m \u001b[0;32mfrom\u001b[0m \u001b[0mmonai\u001b[0m \u001b[0;32mimport\u001b[0m \u001b[0mtransforms\u001b[0m\u001b[0;34m,\u001b[0m \u001b[0mnetworks\u001b[0m\u001b[0;34m\u001b[0m\u001b[0;34m\u001b[0m\u001b[0m\n\u001b[0m\u001b[1;32m      2\u001b[0m \u001b[0;32mimport\u001b[0m \u001b[0mtorch\u001b[0m\u001b[0;34m\u001b[0m\u001b[0;34m\u001b[0m\u001b[0m\n\u001b[1;32m      3\u001b[0m \u001b[0;32mfrom\u001b[0m \u001b[0mtorch\u001b[0m\u001b[0;34m.\u001b[0m\u001b[0mnn\u001b[0m\u001b[0;34m.\u001b[0m\u001b[0mfunctional\u001b[0m \u001b[0;32mimport\u001b[0m \u001b[0msoftmax\u001b[0m\u001b[0;34m\u001b[0m\u001b[0;34m\u001b[0m\u001b[0m\n\u001b[1;32m      4\u001b[0m \u001b[0;32mfrom\u001b[0m \u001b[0mEfficientNetMultimodal\u001b[0m \u001b[0;32mimport\u001b[0m \u001b[0mEfficientNetMultimodal\u001b[0m\u001b[0;34m\u001b[0m\u001b[0;34m\u001b[0m\u001b[0m\n\u001b[1;32m      5\u001b[0m \u001b[0;32mimport\u001b[0m \u001b[0mjson\u001b[0m\u001b[0;34m\u001b[0m\u001b[0;34m\u001b[0m\u001b[0m\n",
      "\u001b[0;31mModuleNotFoundError\u001b[0m: No module named 'monai'"
     ]
    }
   ],
   "source": [
    "from monai import transforms, networks\n",
    "import torch\n",
    "from torch.nn.functional import softmax\n",
    "from EfficientNetMultimodal import EfficientNetMultimodal\n",
    "import json"
   ]
  },
  {
   "cell_type": "code",
   "execution_count": 3,
   "metadata": {},
   "outputs": [
    {
     "ename": "ModuleNotFoundError",
     "evalue": "No module named 'bimcv_aikit'",
     "output_type": "error",
     "traceback": [
      "\u001b[0;31m---------------------------------------------------------------------------\u001b[0m",
      "\u001b[0;31mModuleNotFoundError\u001b[0m                       Traceback (most recent call last)",
      "\u001b[0;32m/tmp/ipykernel_20612/3386114222.py\u001b[0m in \u001b[0;36m<module>\u001b[0;34m\u001b[0m\n\u001b[0;32m----> 1\u001b[0;31m \u001b[0;32mfrom\u001b[0m \u001b[0mbimcv_aikit\u001b[0m\u001b[0;34m.\u001b[0m\u001b[0mmodels\u001b[0m\u001b[0;34m.\u001b[0m\u001b[0mclassification\u001b[0m \u001b[0;32mimport\u001b[0m \u001b[0mSwinViTMultimodal_v3\u001b[0m\u001b[0;34m\u001b[0m\u001b[0;34m\u001b[0m\u001b[0m\n\u001b[0m",
      "\u001b[0;31mModuleNotFoundError\u001b[0m: No module named 'bimcv_aikit'"
     ]
    }
   ],
   "source": [
    "from bimcv_aikit.models.classification import SwinViTMultimodal_v3"
   ]
  },
  {
   "cell_type": "code",
   "execution_count": 9,
   "metadata": {},
   "outputs": [
    {
     "ename": "AttributeError",
     "evalue": "module 'bimcv_aikit.models' has no attribute 'classification'",
     "output_type": "error",
     "traceback": [
      "\u001b[0;31m---------------------------------------------------------------------------\u001b[0m",
      "\u001b[0;31mAttributeError\u001b[0m                            Traceback (most recent call last)",
      "\u001b[1;32m/home/alejandro/Documents/CIPF/Chaimeleon/OpenChallenge/ProstateCancerRiskPrediction/test_model.ipynb Cell 3\u001b[0m line \u001b[0;36m1\n\u001b[0;32m----> <a href='vscode-notebook-cell:/home/alejandro/Documents/CIPF/Chaimeleon/OpenChallenge/ProstateCancerRiskPrediction/test_model.ipynb#X16sZmlsZQ%3D%3D?line=0'>1</a>\u001b[0m \u001b[39mdir\u001b[39m(bimcv_aikit\u001b[39m.\u001b[39;49mmodels\u001b[39m.\u001b[39;49mclassification)\n",
      "\u001b[0;31mAttributeError\u001b[0m: module 'bimcv_aikit.models' has no attribute 'classification'"
     ]
    }
   ],
   "source": [
    "dir(bimcv_aikit.models)"
   ]
  },
  {
   "cell_type": "code",
   "execution_count": 2,
   "metadata": {},
   "outputs": [],
   "source": [
    "torch.cuda.is_available()\n",
    "device = torch.device(\"cuda:0\" if torch.cuda.is_available() else \"cpu\")"
   ]
  },
  {
   "cell_type": "code",
   "execution_count": 3,
   "metadata": {},
   "outputs": [
    {
     "data": {
      "text/plain": [
       "device(type='cuda', index=0)"
      ]
     },
     "execution_count": 3,
     "metadata": {},
     "output_type": "execute_result"
    }
   ],
   "source": [
    "device"
   ]
  },
  {
   "cell_type": "code",
   "execution_count": 6,
   "metadata": {},
   "outputs": [],
   "source": [
    "device = 'cpu'"
   ]
  },
  {
   "cell_type": "code",
   "execution_count": 7,
   "metadata": {},
   "outputs": [],
   "source": [
    "with open(\"/home/alejandro/Documents/CIPF/Chaimeleon/OpenChallenge/ProstateCancerRiskPrediction/input/psa-and-age.json\") as fp:\n",
    "    clinical_info = json.load(fp)\n",
    "transform = transforms.Compose(\n",
    "            [\n",
    "                transforms.LoadImage(image_only=True),\n",
    "                transforms.EnsureChannelFirst(channel_dim=None),\n",
    "                transforms.Resize(\n",
    "                    spatial_size=(128, 128, 32),\n",
    "                    mode=(\"trilinear\"),\n",
    "                ),\n",
    "                transforms.ScaleIntensity(minv=0.0, maxv=1.0),\n",
    "                transforms.NormalizeIntensity(),\n",
    "            ]\n",
    "        )\n",
    "#image = transform('/home/alejandro/Documents/CIPF/Chaimeleon/OpenChallenge/ProstateCancerRiskPrediction/input/images/axial-t2-prostate-mri/a55112de-6e99-4539-b587-5857729d6d51.mha')\n",
    "image = transform('/home/alejandro/Documents/CIPF/Chaimeleon/OpenChallenge/ProstateCancerRiskPrediction/input/images/axial-t2-prostate-mri/a55112de-6e99-4539-b587-5857729d6d51.mha')\n",
    "image = image.unsqueeze(0)\n",
    "model = EfficientNetMultimodal(\n",
    "    model_name=\"efficientnet-b7\",\n",
    "    n_classes=2,\n",
    "    in_channels_eff=1,\n",
    "    in_num_features=2,\n",
    ")\n",
    "model.load_state_dict(\n",
    "    torch.load(\"model_best_weights.pth\", map_location=device)[\"state_dict\"]\n",
    ")\n",
    "model.to(device)\n",
    "image = image.to(device)\n",
    "clinical_info = torch.tensor(\n",
    "    [clinical_info[\"patient_age\"], clinical_info[\"psa\"]], dtype=torch.float32\n",
    ").to(device)\n"
   ]
  },
  {
   "cell_type": "code",
   "execution_count": 10,
   "metadata": {},
   "outputs": [],
   "source": [
    "risk_score_likelihood = softmax(model(image,clinical_info.view(1,-1)),dim=1)[0][1].item()"
   ]
  },
  {
   "cell_type": "code",
   "execution_count": 12,
   "metadata": {},
   "outputs": [
    {
     "data": {
      "text/plain": [
       "tensor([[73.0000, 10.2800]])"
      ]
     },
     "execution_count": 12,
     "metadata": {},
     "output_type": "execute_result"
    }
   ],
   "source": [
    "clinical_info.view(1,-1)"
   ]
  },
  {
   "cell_type": "code",
   "execution_count": 11,
   "metadata": {},
   "outputs": [
    {
     "data": {
      "text/plain": [
       "0.24852226674556732"
      ]
     },
     "execution_count": 11,
     "metadata": {},
     "output_type": "execute_result"
    }
   ],
   "source": [
    "risk_score_likelihood"
   ]
  },
  {
   "cell_type": "code",
   "execution_count": 8,
   "metadata": {},
   "outputs": [
    {
     "data": {
      "text/plain": [
       "tensor([73.0000, 10.2800])"
      ]
     },
     "execution_count": 8,
     "metadata": {},
     "output_type": "execute_result"
    }
   ],
   "source": [
    "clinical_info\n"
   ]
  },
  {
   "cell_type": "code",
   "execution_count": 5,
   "metadata": {},
   "outputs": [],
   "source": [
    "transform=monai.transforms.Compose(\n",
    "        [\n",
    "            monai.transforms.LoadImage(\n",
    "                image_only=True, reader = \"NibabelReader\"\n",
    "            ),\n",
    "            monai.transforms.EnsureChannelFirst(channel_dim = None),\n",
    "            monai.transforms.Resize(\n",
    "                spatial_size=(256,256,30),\n",
    "                mode=(\"trilinear\"),\n",
    "            ),\n",
    "            monai.transforms.ScaleIntensity(minv=0.0, maxv=1.0),\n",
    "            monai.transforms.NormalizeIntensity()\n",
    "        ]\n",
    "    )\n",
    "image = transform('/home/alejandro/Documents/CIPF/Chaimeleon/OpenChallenge/ProstateCancerRiskPrediction/a55112de-6e99-4539-b587-5857729d6d51.mha')\n",
    "image = image.unsqueeze(0)"
   ]
  },
  {
   "cell_type": "code",
   "execution_count": 6,
   "metadata": {},
   "outputs": [
    {
     "data": {
      "text/plain": [
       "torch.Size([1, 1, 256, 256, 30])"
      ]
     },
     "execution_count": 6,
     "metadata": {},
     "output_type": "execute_result"
    }
   ],
   "source": [
    "image.shape"
   ]
  },
  {
   "cell_type": "code",
   "execution_count": 8,
   "metadata": {},
   "outputs": [
    {
     "data": {
      "text/plain": [
       "1.650426747801248e-05"
      ]
     },
     "execution_count": 8,
     "metadata": {},
     "output_type": "execute_result"
    }
   ],
   "source": [
    "risk_score_likelihood[0][1].item()"
   ]
  },
  {
   "cell_type": "code",
   "execution_count": 16,
   "metadata": {},
   "outputs": [
    {
     "data": {
      "text/plain": [
       "torch.Size([1, 1, 256, 256, 30])"
      ]
     },
     "execution_count": 16,
     "metadata": {},
     "output_type": "execute_result"
    }
   ],
   "source": [
    "image.shape"
   ]
  }
 ],
 "metadata": {
  "kernelspec": {
   "display_name": "base",
   "language": "python",
   "name": "python3"
  },
  "language_info": {
   "codemirror_mode": {
    "name": "ipython",
    "version": 3
   },
   "file_extension": ".py",
   "mimetype": "text/x-python",
   "name": "python",
   "nbconvert_exporter": "python",
   "pygments_lexer": "ipython3",
   "version": "3.9.13"
  }
 },
 "nbformat": 4,
 "nbformat_minor": 2
}
